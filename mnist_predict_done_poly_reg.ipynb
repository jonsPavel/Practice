{
  "nbformat": 4,
  "nbformat_minor": 0,
  "metadata": {
    "colab": {
      "name": "mnist_predict_done.ipynb\"",
      "provenance": [],
      "collapsed_sections": [],
      "include_colab_link": true
    },
    "kernelspec": {
      "name": "python3",
      "display_name": "Python 3"
    }
  },
  "cells": [
    {
      "cell_type": "markdown",
      "metadata": {
        "id": "view-in-github",
        "colab_type": "text"
      },
      "source": [
        "<a href=\"https://colab.research.google.com/github/jonsPavel/Practice/blob/main/mnist_predict_done_poly_reg.ipynb\" target=\"_parent\"><img src=\"https://colab.research.google.com/assets/colab-badge.svg\" alt=\"Open In Colab\"/></a>"
      ]
    },
    {
      "cell_type": "markdown",
      "metadata": {
        "id": "ay1ShkSbRq7C"
      },
      "source": [
        "# Модель разпознования цифр размера (28x28) с обучающим датасетом MNIST"
      ]
    },
    {
      "cell_type": "code",
      "metadata": {
        "id": "lKBe915HUeHy"
      },
      "source": [
        "#импорт TenserFlow - для обучения модели, plt - отрисовка, np - работа с числами\n",
        "\n",
        "import tensorflow as tf \n",
        "from matplotlib import pyplot as plt\n",
        "import numpy as np"
      ],
      "execution_count": null,
      "outputs": []
    },
    {
      "cell_type": "markdown",
      "metadata": {
        "id": "wYbpnpnuMTRX"
      },
      "source": [
        "Загрузим данные MNIST и разделим выборки."
      ]
    },
    {
      "cell_type": "code",
      "metadata": {
        "id": "wAA3y6mAUg-Q",
        "colab": {
          "base_uri": "https://localhost:8080/"
        },
        "outputId": "9e762453-ad8b-40a6-f76b-a43cd503fc79"
      },
      "source": [
        "objects =  tf.keras.datasets.mnist\n",
        "(training_images, training_labels), (test_images, test_labels) = objects.load_data()"
      ],
      "execution_count": null,
      "outputs": [
        {
          "output_type": "stream",
          "name": "stdout",
          "text": [
            "Downloading data from https://storage.googleapis.com/tensorflow/tf-keras-datasets/mnist.npz\n",
            "11493376/11490434 [==============================] - 0s 0us/step\n",
            "11501568/11490434 [==============================] - 0s 0us/step\n"
          ]
        }
      ]
    },
    {
      "cell_type": "markdown",
      "metadata": {
        "id": "hZMSaW4XMboB"
      },
      "source": [
        "Обзор картинок:"
      ]
    },
    {
      "cell_type": "code",
      "metadata": {
        "id": "c8ha8ebPUpj5",
        "colab": {
          "base_uri": "https://localhost:8080/",
          "height": 268
        },
        "outputId": "da18d572-a45a-4b45-db79-09b392a81b3d"
      },
      "source": [
        "for i in range(9):\n",
        "\t# создадим доску\n",
        "\tplt.subplot(330 + 1 + i)\n",
        "\t# отрисуем картинки\n",
        "\tplt.imshow(training_images[i])\n"
      ],
      "execution_count": null,
      "outputs": [
        {
          "output_type": "display_data",
          "data": {
            "image/png": "[encoded data removed]",
            "text/plain": [
              "<Figure size 432x288 with 9 Axes>"
            ]
          },
          "metadata": {
            "needs_background": "light"
          }
        }
      ]
    },
    {
      "cell_type": "code",
      "metadata": {
        "id": "wo2y_GAWVE9F",
        "colab": {
          "base_uri": "https://localhost:8080/"
        },
        "outputId": "d92dd728-e4dc-4877-a44f-8a88728dde6e"
      },
      "source": [
        "print('Кол-во и размер изображений ',training_images.shape)\n",
        "print('Представление в виде матрицы:\\n',training_images[0])"
      ],
      "execution_count": null,
      "outputs": [
        {
          "output_type": "stream",
          "name": "stdout",
          "text": [
            "Кол-во и размер изображений  (60000, 28, 28)\n",
            "Представление в виде матрицы:\n",
            " [[  0   0   0   0   0   0   0   0   0   0   0   0   0   0   0   0   0   0\n",
            "    0   0   0   0   0   0   0   0   0   0]\n",
            " [  0   0   0   0   0   0   0   0   0   0   0   0   0   0   0   0   0   0\n",
            "    0   0   0   0   0   0   0   0   0   0]\n",
            " [  0   0   0   0   0   0   0   0   0   0   0   0   0   0   0   0   0   0\n",
            "    0   0   0   0   0   0   0   0   0   0]\n",
            " [  0   0   0   0   0   0   0   0   0   0   0   0   0   0   0   0   0   0\n",
            "    0   0   0   0   0   0   0   0   0   0]\n",
            " [  0   0   0   0   0   0   0   0   0   0   0   0   0   0   0   0   0   0\n",
            "    0   0   0   0   0   0   0   0   0   0]\n",
            " [  0   0   0   0   0   0   0   0   0   0   0   0   3  18  18  18 126 136\n",
            "  175  26 166 255 247 127   0   0   0   0]\n",
            " [  0   0   0   0   0   0   0   0  30  36  94 154 170 253 253 253 253 253\n",
            "  225 172 253 242 195  64   0   0   0   0]\n",
            " [  0   0   0   0   0   0   0  49 238 253 253 253 253 253 253 253 253 251\n",
            "   93  82  82  56  39   0   0   0   0   0]\n",
            " [  0   0   0   0   0   0   0  18 219 253 253 253 253 253 198 182 247 241\n",
            "    0   0   0   0   0   0   0   0   0   0]\n",
            " [  0   0   0   0   0   0   0   0  80 156 107 253 253 205  11   0  43 154\n",
            "    0   0   0   0   0   0   0   0   0   0]\n",
            " [  0   0   0   0   0   0   0   0   0  14   1 154 253  90   0   0   0   0\n",
            "    0   0   0   0   0   0   0   0   0   0]\n",
            " [  0   0   0   0   0   0   0   0   0   0   0 139 253 190   2   0   0   0\n",
            "    0   0   0   0   0   0   0   0   0   0]\n",
            " [  0   0   0   0   0   0   0   0   0   0   0  11 190 253  70   0   0   0\n",
            "    0   0   0   0   0   0   0   0   0   0]\n",
            " [  0   0   0   0   0   0   0   0   0   0   0   0  35 241 225 160 108   1\n",
            "    0   0   0   0   0   0   0   0   0   0]\n",
            " [  0   0   0   0   0   0   0   0   0   0   0   0   0  81 240 253 253 119\n",
            "   25   0   0   0   0   0   0   0   0   0]\n",
            " [  0   0   0   0   0   0   0   0   0   0   0   0   0   0  45 186 253 253\n",
            "  150  27   0   0   0   0   0   0   0   0]\n",
            " [  0   0   0   0   0   0   0   0   0   0   0   0   0   0   0  16  93 252\n",
            "  253 187   0   0   0   0   0   0   0   0]\n",
            " [  0   0   0   0   0   0   0   0   0   0   0   0   0   0   0   0   0 249\n",
            "  253 249  64   0   0   0   0   0   0   0]\n",
            " [  0   0   0   0   0   0   0   0   0   0   0   0   0   0  46 130 183 253\n",
            "  253 207   2   0   0   0   0   0   0   0]\n",
            " [  0   0   0   0   0   0   0   0   0   0   0   0  39 148 229 253 253 253\n",
            "  250 182   0   0   0   0   0   0   0   0]\n",
            " [  0   0   0   0   0   0   0   0   0   0  24 114 221 253 253 253 253 201\n",
            "   78   0   0   0   0   0   0   0   0   0]\n",
            " [  0   0   0   0   0   0   0   0  23  66 213 253 253 253 253 198  81   2\n",
            "    0   0   0   0   0   0   0   0   0   0]\n",
            " [  0   0   0   0   0   0  18 171 219 253 253 253 253 195  80   9   0   0\n",
            "    0   0   0   0   0   0   0   0   0   0]\n",
            " [  0   0   0   0  55 172 226 253 253 253 253 244 133  11   0   0   0   0\n",
            "    0   0   0   0   0   0   0   0   0   0]\n",
            " [  0   0   0   0 136 253 253 253 212 135 132  16   0   0   0   0   0   0\n",
            "    0   0   0   0   0   0   0   0   0   0]\n",
            " [  0   0   0   0   0   0   0   0   0   0   0   0   0   0   0   0   0   0\n",
            "    0   0   0   0   0   0   0   0   0   0]\n",
            " [  0   0   0   0   0   0   0   0   0   0   0   0   0   0   0   0   0   0\n",
            "    0   0   0   0   0   0   0   0   0   0]\n",
            " [  0   0   0   0   0   0   0   0   0   0   0   0   0   0   0   0   0   0\n",
            "    0   0   0   0   0   0   0   0   0   0]]\n"
          ]
        }
      ]
    },
    {
      "cell_type": "code",
      "metadata": {
        "id": "jGYAtlUXWI1a"
      },
      "source": [
        "#Нормализуем: Value--> [0,1]\n",
        "\n",
        "training_images  = training_images / 255.0\n",
        "test_images = test_images / 255.0"
      ],
      "execution_count": null,
      "outputs": []
    },
    {
      "cell_type": "markdown",
      "metadata": {
        "id": "nyLSyml-PFQm"
      },
      "source": [
        "Создадим нейронную сеть из последовательности слоёв.\n",
        "\n",
        "Слои:\n",
        "1. Входной слой для каждого пикселя, количество = 28*28\n",
        "2. Скрытый слой сети со связью каждый с каждым и функцией активации 'relu':   ![relu_func.JPG](data:image/jpeg;base64,/9j/4AAQSkZJRgABAQEAYABgAAD/4RDcRXhpZgAATU0AKgAAAAgABAE7AAIAAAAGAAAISodpAAQAAAABAAAIUJydAAEAAAAMAAAQyOocAAcAAAgMAAAAPgAAAAAc6gAAAAgAAAAAAAAAAAAAAAAAAAAAAAAAAAAAAAAAAAAAAAAAAAAAAAAAAAAAAAAAAAAAAAAAAAAAAAAAAAAAAAAAAAAAAAAAAAAAAAAAAAAAAAAAAAAAAAAAAAAAAAAAAAAAAAAAAAAAAAAAAAAAAAAAAAAAAAAAAAAAAAAAAAAAAAAAAAAAAAAAAAAAAAAAAAAAAAAAAAAAAAAAAAAAAAAAAAAAAAAAAAAAAAAAAAAAAAAAAAAAAAAAAAAAAAAAAAAAAAAAAAAAAAAAAAAAAAAAAAAAAAAAAAAAAAAAAAAAAAAAAAAAAAAAAAAAAAAAAAAAAAAAAAAAAAAAAAAAAAAAAAAAAAAAAAAAAAAAAAAAAAAAAAAAAAAAAAAAAAAAAAAAAAAAAAAAAAAAAAAAAAAAAAAAAAAAAAAAAAAAAAAAAAAAAAAAAAAAAAAAAAAAAAAAAAAAAAAAAAAAAAAAAAAAAAAAAAAAAAAAAAAAAAAAAAAAAAAAAAAAAAAAAAAAAAAAAAAAAAAAAAAAAAAAAAAAAAAAAAAAAAAAAAAAAAAAAAAAAAAAAAAAAAAAAAAAAAAAAAAAAAAAAAAAAAAAAAAAAAAAAAAAAAAAAAAAAAAAAAAAAAAAAAAAAAAAAAAAAAAAAAAAAAAAAAAAAAAAAAAAAAAAAAAAAAAAAAAAAAAAAAAAAAAAAAAAAAAAAAAAAAAAAAAAAAAAAAAAAAAAAAAAAAAAAAAAAAAAAAAAAAAAAAAAAAAAAAAAAAAAAAAAAAAAAAAAAAAAAAAAAAAAAAAAAAAAAAAAAAAAAAAAAAAAAAAAAAAAAAAAAAAAAAAAAAAAAAAAAAAAAAAAAAAAAAAAAAAAAAAAAAAAAAAAAAAAAAAAAAAAAAAAAAAAAAAAAAAAAAAAAAAAAAAAAAAAAAAAAAAAAAAAAAAAAAAAAAAAAAAAAAAAAAAAAAAAAAAAAAAAAAAAAAAAAAAAAAAAAAAAAAAAAAAAAAAAAAAAAAAAAAAAAAAAAAAAAAAAAAAAAAAAAAAAAAAAAAAAAAAAAAAAAAAAAAAAAAAAAAAAAAAAAAAAAAAAAAAAAAAAAAAAAAAAAAAAAAAAAAAAAAAAAAAAAAAAAAAAAAAAAAAAAAAAAAAAAAAAAAAAAAAAAAAAAAAAAAAAAAAAAAAAAAAAAAAAAAAAAAAAAAAAAAAAAAAAAAAAAAAAAAAAAAAAAAAAAAAAAAAAAAAAAAAAAAAAAAAAAAAAAAAAAAAAAAAAAAAAAAAAAAAAAAAAAAAAAAAAAAAAAAAAAAAAAAAAAAAAAAAAAAAAAAAAAAAAAAAAAAAAAAAAAAAAAAAAAAAAAAAAAAAAAAAAAAAAAAAAAAAAAAAAAAAAAAAAAAAAAAAAAAAAAAAAAAAAAAAAAAAAAAAAAAAAAAAAAAAAAAAAAAAAAAAAAAAAAAAAAAAAAAAAAAAAAAAAAAAAAAAAAAAAAAAAAAAAAAAAAAAAAAAAAAAAAAAAAAAAAAAAAAAAAAAAAAAAAAAAAAAAAAAAAAAAAAAAAAAAAAAAAAAAAAAAAAAAAAAAAAAAAAAAAAAAAAAAAAAAAAAAAAAAAAAAAAAAAAAAAAAAAAAAAAAAAAAAAAAAAAAAAAAAAAAAAAAAAAAAAAAAAAAAAAAAAAAAAAAAAAAAAAAAAAAAAAAAAAAAAAAAAAAAAAAAAAAAAAAAAAAAAAAAAAAAAAAAAAAAAAAAAAAAAAAAAAAAAAAAAAAAAAAAAAAAAAAAAAAAAAAAAAAAAAAAAAAAAAAAAAAAAAAAAAAAAAAAAAAAAAAAAAAAAAAAAAAAAAAAAAAAAAAAAAAAAAAAAAAAAAAAAAAAAAAAAAAAAAAAAAAAAAAAAAAAAAAAAAAAAAAAAAAAAAAAAAAAAAAAAAAAAAAAAAAAAAAAAAAAAAAAAAAAAAAAAAAAAAAAAAAAAAAAAAAAAAAAAAAAAAAAAAAAAAAAAAAAAAAAAAAAAAAAAAAAAAAAAAAAAAAAAAAAAAAAAAAAAAAAAAAAAAAAAAAAAAAAAAAAAAAAAAAAAAAAAAAAAAAAAAAAAAAAAAAAAAAAAAAAAAAAAAAAAAAAAAAAAAAAAAAAAAAAAAAAAAAAAAAAAAAAAAAAAAAAAAAAAAAAAAAAAAAAAAAAAAAAAAAAAAAAAAAAAAAAAAAAAAAAAAAAAAAAAAAAAAAAAAAAAAAAAAAAAAAAAAAAAAAAAAAAAAAAAAAAAAAAAAAAAAAAAAAAAAAAAAAAAAAAAAAAAAAAAAAAAAAAAAAAAAAAAAAAAAAAAAAAAAAAAAAAAAAAAAAAAAAAAAAAAAAAAAAAAAAAAAAAAAAAAAAAAAAAAAAAAAAAAAAAAAAAAAAAAAAAAAAAAAAAAAAAAAAAAAAAAAAAAAAAAAAAAAAAAAAAAAAAAAAAAAAAAAAAAAAAAAAAAAAAAAAAAAAAAAAAAAAAAAAAAAAAAAAAAAAAAAAAAAAAAAAAAAAAAAAAAAAAAAAAAAAAAAAAAAAAAAAAAAAAAAAAAAAAAAAAAAAAAAAAAAAAAAAAAAAAAAAAAAAAAAAAAAAAAAAAAAAAAAAAAAAAAAAAAAAAAAAAAAAAAAAAAAAAAAAAAAAAAAAAAAAAAAAAAAAAAAAAAAAAAAAAAAAAAAAAAAAAAAAAAAAAAAAAAAAAAAAAAAAAAAAAAAAAAAAAAAAAAAAAAAAAAAAAAAAAAAAAAAAAAAAAAAAAAAAAAAAAAAAAAAAAAFBBVkVMAAAFkAMAAgAAABQAABCekAQAAgAAABQAABCykpEAAgAAAAMyOQAAkpIAAgAAAAMyOQAA6hwABwAACAwAAAiSAAAAABzqAAAACAAAAAAAAAAAAAAAAAAAAAAAAAAAAAAAAAAAAAAAAAAAAAAAAAAAAAAAAAAAAAAAAAAAAAAAAAAAAAAAAAAAAAAAAAAAAAAAAAAAAAAAAAAAAAAAAAAAAAAAAAAAAAAAAAAAAAAAAAAAAAAAAAAAAAAAAAAAAAAAAAAAAAAAAAAAAAAAAAAAAAAAAAAAAAAAAAAAAAAAAAAAAAAAAAAAAAAAAAAAAAAAAAAAAAAAAAAAAAAAAAAAAAAAAAAAAAAAAAAAAAAAAAAAAAAAAAAAAAAAAAAAAAAAAAAAAAAAAAAAAAAAAAAAAAAAAAAAAAAAAAAAAAAAAAAAAAAAAAAAAAAAAAAAAAAAAAAAAAAAAAAAAAAAAAAAAAAAAAAAAAAAAAAAAAAAAAAAAAAAAAAAAAAAAAAAAAAAAAAAAAAAAAAAAAAAAAAAAAAAAAAAAAAAAAAAAAAAAAAAAAAAAAAAAAAAAAAAAAAAAAAAAAAAAAAAAAAAAAAAAAAAAAAAAAAAAAAAAAAAAAAAAAAAAAAAAAAAAAAAAAAAAAAAAAAAAAAAAAAAAAAAAAAAAAAAAAAAAAAAAAAAAAAAAAAAAAAAAAAAAAAAAAAAAAAAAAAAAAAAAAAAAAAAAAAAAAAAAAAAAAAAAAAAAAAAAAAAAAAAAAAAAAAAAAAAAAAAAAAAAAAAAAAAAAAAAAAAAAAAAAAAAAAAAAAAAAAAAAAAAAAAAAAAAAAAAAAAAAAAAAAAAAAAAAAAAAAAAAAAAAAAAAAAAAAAAAAAAAAAAAAAAAAAAAAAAAAAAAAAAAAAAAAAAAAAAAAAAAAAAAAAAAAAAAAAAAAAAAAAAAAAAAAAAAAAAAAAAAAAAAAAAAAAAAAAAAAAAAAAAAAAAAAAAAAAAAAAAAAAAAAAAAAAAAAAAAAAAAAAAAAAAAAAAAAAAAAAAAAAAAAAAAAAAAAAAAAAAAAAAAAAAAAAAAAAAAAAAAAAAAAAAAAAAAAAAAAAAAAAAAAAAAAAAAAAAAAAAAAAAAAAAAAAAAAAAAAAAAAAAAAAAAAAAAAAAAAAAAAAAAAAAAAAAAAAAAAAAAAAAAAAAAAAAAAAAAAAAAAAAAAAAAAAAAAAAAAAAAAAAAAAAAAAAAAAAAAAAAAAAAAAAAAAAAAAAAAAAAAAAAAAAAAAAAAAAAAAAAAAAAAAAAAAAAAAAAAAAAAAAAAAAAAAAAAAAAAAAAAAAAAAAAAAAAAAAAAAAAAAAAAAAAAAAAAAAAAAAAAAAAAAAAAAAAAAAAAAAAAAAAAAAAAAAAAAAAAAAAAAAAAAAAAAAAAAAAAAAAAAAAAAAAAAAAAAAAAAAAAAAAAAAAAAAAAAAAAAAAAAAAAAAAAAAAAAAAAAAAAAAAAAAAAAAAAAAAAAAAAAAAAAAAAAAAAAAAAAAAAAAAAAAAAAAAAAAAAAAAAAAAAAAAAAAAAAAAAAAAAAAAAAAAAAAAAAAAAAAAAAAAAAAAAAAAAAAAAAAAAAAAAAAAAAAAAAAAAAAAAAAAAAAAAAAAAAAAAAAAAAAAAAAAAAAAAAAAAAAAAAAAAAAAAAAAAAAAAAAAAAAAAAAAAAAAAAAAAAAAAAAAAAAAAAAAAAAAAAAAAAAAAAAAAAAAAAAAAAAAAAAAAAAAAAAAAAAAAAAAAAAAAAAAAAAAAAAAAAAAAAAAAAAAAAAAAAAAAAAAAAAAAAAAAAAAAAAAAAAAAAAAAAAAAAAAAAAAAAAAAAAAAAAAAAAAAAAAAAAAAAAAAAAAAAAAAAAAAAAAAAAAAAAAAAAAAAAAAAAAAAAAAAAAAAAAAAAAAAAAAAAAAAAAAAAAAAAAAAAAAAAAAAAAAAAAAAAAAAAAAAAAAAAAAAAAAAAAAAAAAAAAAAAAAAAAAAAAAAAAAAAAAAAAAAAAAAAAAAAAAAAAAAAAAAAAAAAAAAAAAAAAAAAAAAAAAAAAAAAAAAAAAAAAAAAAAAAAAAAAAAAAAAAAAAAAAAAAAAAAAAAAAAAAAAAAAAAAAAAAAAAAAAAAAAAAAAAAAAAAAAAAAAAAAAAAAAAAAAAAAAAAAAAAAAAAAAAAAAAAAAAAAAAAAAAAAAAAAAAAAAAAAAAAAAAAAAAAAAAAAAAAAAAAAAAAAAAAAAAAAAAAAAAAAAAAAAAAAAAAAAAAAAAAAAAAAAAAAAAAAAAAAAAAAAAAAAAAAAAAAAAAAAAAAAAAAAAAAAAAAAAAAAAAAAAAAAAAAAAAAAAAAAAAAAAAAAAAAAAAAAAAAAAAAAAAAAAAAAAAAAAAAAAAAAAAAAAAAAAAAAAAAAAAAAAAAAAAAAAAAAAAAAAAAAAAAAAAAAAAAAAAAAAAAAAAAAAAAAAAAAAAAAAAAAAAAAAAAAAAAAAAAAAAAAAAAAAAAAAAAAAAAAAAAAAAAAAAAAAAAAAAAAAAAAAAAAAAAAAAAAAAAAAAAAAAAAAAAAAAAAAAAAAAAAAAAAAAAAAAAAAAAAAAAAAAAAAAAAAAAAAAAAAAAAAAAAAAAAAAAAAAAAAAAAAAAAAAAAAAAAAAAAAAAAAAAAAAAAAAAAAAAAAAAAAAAAAAAAAAAAAAAAAAAAAAAAAAAAAAAAAAAAAAAAAAAAAAAAAAAAAAAAAAAAAAAAAAAAAAAAAAAAAAAAAAAAAAAAAAAAAAAAAAAAAAAAAAAAAAAAAAAAAAAAAAAAAAAAAAAAAAAAAAAAAAAAAAAAAAAAAAAAAAAAAAAAAAAAAAAAMjAyMToxMjowNiAyMjoyNjoyNwAyMDIxOjEyOjA2IDIyOjI2OjI3AAAAUABBAFYARQBMAAAA/+ELGGh0dHA6Ly9ucy5hZG9iZS5jb20veGFwLzEuMC8APD94cGFja2V0IGJlZ2luPSfvu78nIGlkPSdXNU0wTXBDZWhpSHpyZVN6TlRjemtjOWQnPz4NCjx4OnhtcG1ldGEgeG1sbnM6eD0iYWRvYmU6bnM6bWV0YS8iPjxyZGY6UkRGIHhtbG5zOnJkZj0iaHR0cDovL3d3dy53My5vcmcvMTk5OS8wMi8yMi1yZGYtc3ludGF4LW5zIyI+PHJkZjpEZXNjcmlwdGlvbiByZGY6YWJvdXQ9InV1aWQ6ZmFmNWJkZDUtYmEzZC0xMWRhLWFkMzEtZDMzZDc1MTgyZjFiIiB4bWxuczpkYz0iaHR0cDovL3B1cmwub3JnL2RjL2VsZW1lbnRzLzEuMS8iLz48cmRmOkRlc2NyaXB0aW9uIHJkZjphYm91dD0idXVpZDpmYWY1YmRkNS1iYTNkLTExZGEtYWQzMS1kMzNkNzUxODJmMWIiIHhtbG5zOnhtcD0iaHR0cDovL25zLmFkb2JlLmNvbS94YXAvMS4wLyI+PHhtcDpDcmVhdGVEYXRlPjIwMjEtMTItMDZUMjI6MjY6MjcuMjg4PC94bXA6Q3JlYXRlRGF0ZT48L3JkZjpEZXNjcmlwdGlvbj48cmRmOkRlc2NyaXB0aW9uIHJkZjphYm91dD0idXVpZDpmYWY1YmRkNS1iYTNkLTExZGEtYWQzMS1kMzNkNzUxODJmMWIiIHhtbG5zOmRjPSJodHRwOi8vcHVybC5vcmcvZGMvZWxlbWVudHMvMS4xLyI+PGRjOmNyZWF0b3I+PHJkZjpTZXEgeG1sbnM6cmRmPSJodHRwOi8vd3d3LnczLm9yZy8xOTk5LzAyLzIyLXJkZi1zeW50YXgtbnMjIj48cmRmOmxpPlBBVkVMPC9yZGY6bGk+PC9yZGY6U2VxPg0KCQkJPC9kYzpjcmVhdG9yPjwvcmRmOkRlc2NyaXB0aW9uPjwvcmRmOlJERj48L3g6eG1wbWV0YT4NCiAgICAgICAgICAgICAgICAgICAgICAgICAgICAgICAgICAgICAgICAgICAgICAgICAgICAgICAgICAgICAgICAgICAgICAgICAgICAgICAgICAgICAgICAgICAgICAgICAgICAKICAgICAgICAgICAgICAgICAgICAgICAgICAgICAgICAgICAgICAgICAgICAgICAgICAgICAgICAgICAgICAgICAgICAgICAgICAgICAgICAgICAgICAgICAgICAgICAgICAgIAogICAgICAgICAgICAgICAgICAgICAgICAgICAgICAgICAgICAgICAgICAgICAgICAgICAgICAgICAgICAgICAgICAgICAgICAgICAgICAgICAgICAgICAgICAgICAgICAgICAgCiAgICAgICAgICAgICAgICAgICAgICAgICAgICAgICAgICAgICAgICAgICAgICAgICAgICAgICAgICAgICAgICAgICAgICAgICAgICAgICAgICAgICAgICAgICAgICAgICAgICAKICAgICAgICAgICAgICAgICAgICAgICAgICAgICAgICAgICAgICAgICAgICAgICAgICAgICAgICAgICAgICAgICAgICAgICAgICAgICAgICAgICAgICAgICAgICAgICAgICAgIAogICAgICAgICAgICAgICAgICAgICAgICAgICAgICAgICAgICAgICAgICAgICAgICAgICAgICAgICAgICAgICAgICAgICAgICAgICAgICAgICAgICAgICAgICAgICAgICAgICAgCiAgICAgICAgICAgICAgICAgICAgICAgICAgICAgICAgICAgICAgICAgICAgICAgICAgICAgICAgICAgICAgICAgICAgICAgICAgICAgICAgICAgICAgICAgICAgICAgICAgICAKICAgICAgICAgICAgICAgICAgICAgICAgICAgICAgICAgICAgICAgICAgICAgICAgICAgICAgICAgICAgICAgICAgICAgICAgICAgICAgICAgICAgICAgICAgICAgICAgICAgIAogICAgICAgICAgICAgICAgICAgICAgICAgICAgICAgICAgICAgICAgICAgICAgICAgICAgICAgICAgICAgICAgICAgICAgICAgICAgICAgICAgICAgICAgICAgICAgICAgICAgCiAgICAgICAgICAgICAgICAgICAgICAgICAgICAgICAgICAgICAgICAgICAgICAgICAgICAgICAgICAgICAgICAgICAgICAgICAgICAgICAgICAgICAgICAgICAgICAgICAgICAKICAgICAgICAgICAgICAgICAgICAgICAgICAgICAgICAgICAgICAgICAgICAgICAgICAgICAgICAgICAgICAgICAgICAgICAgICAgICAgICAgICAgICAgICAgICAgICAgICAgIAogICAgICAgICAgICAgICAgICAgICAgICAgICAgICAgICAgICAgICAgICAgICAgICAgICAgICAgICAgICAgICAgICAgICAgICAgICAgICAgICAgICAgICAgICAgICAgICAgICAgCiAgICAgICAgICAgICAgICAgICAgICAgICAgICAgICAgICAgICAgICAgICAgICAgICAgICAgICAgICAgICAgICAgICAgICAgICAgICAgICAgICAgICAgICAgICAgICAgICAgICAKICAgICAgICAgICAgICAgICAgICAgICAgICAgICAgICAgICAgICAgICAgICAgICAgICAgICAgICAgICAgICAgICAgICAgICAgICAgICAgICAgICAgICAgICAgICAgICAgICAgIAogICAgICAgICAgICAgICAgICAgICAgICAgICAgICAgICAgICAgICAgICAgICAgICAgICAgICAgICAgICAgICAgICAgICAgICAgICAgICAgICAgICAgICAgICAgICAgICAgICAgCiAgICAgICAgICAgICAgICAgICAgICAgICAgICAgICAgICAgICAgICAgICAgICAgICAgICAgICAgICAgICAgICAgICAgICAgICAgICAgICAgICAgICAgICAgICAgICAgICAgICAKICAgICAgICAgICAgICAgICAgICAgICAgICAgICAgICAgICAgICAgICAgICAgICAgICAgICAgICAgICAgICAgICAgICAgICAgICAgICAgICAgICAgICAgICAgICAgICAgICAgIAogICAgICAgICAgICAgICAgICAgICAgICAgICAgICAgICAgICAgICAgICAgICAgICAgICAgICAgICAgICAgICAgICAgICAgICAgICAgICAgICAgICAgICAgICAgICAgICAgICAgCiAgICAgICAgICAgICAgICAgICAgICAgICAgICAgICAgICAgICAgICAgICAgICAgICAgICAgICAgICAgICAgICAgICAgICAgICAgICAgICAgICAgICAgICAgICAgICAgICAgICAKICAgICAgICAgICAgICAgICAgICAgICAgICAgICAgICAgICAgICAgICAgICAgICAgICAgICAgICAgICAgICAgICAgICAgICAgICAgICAgICAgICAgICAgICAgICAgICAgICAgIAogICAgICAgICAgICAgICAgICAgICAgICAgICAgPD94cGFja2V0IGVuZD0ndyc/Pv/bAEMABwUFBgUEBwYFBggHBwgKEQsKCQkKFQ8QDBEYFRoZGBUYFxseJyEbHSUdFxgiLiIlKCkrLCsaIC8zLyoyJyorKv/bAEMBBwgICgkKFAsLFCocGBwqKioqKioqKioqKioqKioqKioqKioqKioqKioqKioqKioqKioqKioqKioqKioqKioqKv/AABEIAVQBGwMBIgACEQEDEQH/xAAfAAABBQEBAQEBAQAAAAAAAAAAAQIDBAUGBwgJCgv/xAC1EAACAQMDAgQDBQUEBAAAAX0BAgMABBEFEiExQQYTUWEHInEUMoGRoQgjQrHBFVLR8CQzYnKCCQoWFxgZGiUmJygpKjQ1Njc4OTpDREVGR0hJSlNUVVZXWFlaY2RlZmdoaWpzdHV2d3h5eoOEhYaHiImKkpOUlZaXmJmaoqOkpaanqKmqsrO0tba3uLm6wsPExcbHyMnK0tPU1dbX2Nna4eLj5OXm5+jp6vHy8/T19vf4+fr/xAAfAQADAQEBAQEBAQEBAAAAAAAAAQIDBAUGBwgJCgv/xAC1EQACAQIEBAMEBwUEBAABAncAAQIDEQQFITEGEkFRB2FxEyIygQgUQpGhscEJIzNS8BVictEKFiQ04SXxFxgZGiYnKCkqNTY3ODk6Q0RFRkdISUpTVFVWV1hZWmNkZWZnaGlqc3R1dnd4eXqCg4SFhoeIiYqSk5SVlpeYmZqio6Slpqeoqaqys7S1tre4ubrCw8TFxsfIycrS09TV1tfY2dri4+Tl5ufo6ery8/T19vf4+fr/2gAMAwEAAhEDEQA/APpCiiigAooooAKKKKACiiigAooooAKKKKACiiigAooooAKKKKACiiigAooooAKKKKACiiigAooooAKKKKACiiigAooooAKKKKACiiigArA1HxnpGmanLYXD3LzwqrSCG1kkCA8jJVSBW/Xnz3mt2fjrxI2iaPDqWIrclXvBASQhwBlSPxyKAO20zU7PWLFLzTp1ngfo6n9Kt15jY+IW8O+CEv4Hik1DWtQYunkvstJGzvBQDcdgU5HUn0BzV7SfHE0U94mpM19aW9m919risZbcrt5KMH4+hBoA9AqteX8FhavcXL4ijIDFRuwScYwPrXPaYPFOoW0d9dXljaLcRbhaJblzDkZUb9w3EcZ4wTnFczo13rukaPr99c6jDeCLVJY/La3Ay29BnO44GCeKAO11PxdpGk6gtnd3DeeQpZI4nk2BjhS20Hbk9M4rbFeXx3GsaNrni7UHvILjbParsNvtzujTHOewOMfjU9/48vJNV1FLC5jtIrCdoY4n0+ac3LLwSXXhRkYGMn19KAPSapQanaz6lcWMMm64tgplTH3Q3IrmU8T6nrr6dY6NDHYXdxafbLl7uNm8hM7QoTIJYtnrgAD8Ki8JxX8PjzxEmqzw3EwS3AkhjKBhtPUZPNAHWSalaR6tHpzS4upIjKke08qCATnp3p81/BbXMFvMxElwSIwFJyQMmubvP+Ssad/2DJf/AENav6/qs2nanpkUCoVuWkD7hkjahIx+NAG9mivPNM8ReJ38H6X4o1B7A21xDA81pFG27Y+0bw+fvfNnGMduetJrHjm6bX7+wsbqOyi09ljLvYTXHnSFA5GUGFUBgOuc56Y5APRKK41PEV7f+E7LU/tlpoJmyJ2vomJVgcYVWK9SCQT2I4rPTxrqtz4T0m+sktbm6utUNizISIpAHdd4zyAdgPtQB6FVSz1O1vprmK1k3vayeVKMfdbGcfrUGjRatFHKNauLa4YtmJ4IjHhcdCCT3rH8IsP7b8TDPI1Dkf8AAFoA6CfUba31C2sZXxcXSs0S4+8Fxu/mKtVy2tnPxB8PhfvLbXbEegwgz+tYUHiXxOPB7+KbiSwNpbl3ks1ibdJEshUtvzw2BkDBHHvQB3sd/byX09oHImgVXcEEABs456djVmvOfHV9qtxb67aWF5HaRWdpBKx8nc0m8sCM5GPuiu00SK9g0yJNSu1up+pkWLywR2GMmgCe+1C30yJZLuTaJHCIACSzHgAAcmsSfx9oVvc3UEktxm0kMU7payMkbDqCwXHGfWmyKdR+JIjkwYdKsFmRT/z0ldhn8FjIH+8a5XT9W8QaTb+LJNI0SHUYl1i4Yubraw4XP7vad2BzgHJoA9LtLqC9tY7i0lWaGVQyOhyGHrRe3kGn2E95dPsgt42kkbGcKBkmvPf7dTwj4X8P6Zpd1HPJqQkdbz7O8iRqAGdticnlgAPfk8UTeI7rVvCPiixu83C2+myPHeJayQLIGRsqVcfeGO2RgigD0NbqJ7NbpGzEyCQNjqpGc/lTNPv7fVNOgvrJ/Mt7iMSRtjG5SMg1TsefCduOpNkuB/wCqXw/YH4d6Dgj/jxiHH+6KAL1x4g063a6SWfabQoJztOI9/Qk+nv2rTXBUEHPvXJaPDFdeLvFUUqCSF/IjdWHDDyzkfrVrwNPK2gyWU8jSvpt1NZh2OSyRuQhPvs20AdJRRRQAUUUUAFFFFABWVY6ObPxBqWpebu+3CMeXj7uwY61q0UAclqPgk3OpXF3Y3z2fmOtwgRQfLuFGPMGeMFTgjvVq00HVriOeLxFqcN7bzQtC1vBb+UrBhgk8kk4966OigDm9H0XXdMmgt5NajudPtxtRZLf96y4wAXzg49cc1Sn8GX0j6nbxamiaff3JujEYMujkqSN2emV9O9djRQBzF74RN2dZP2radTlgf7n+r8tVX8c7f1pkvhrV7PUbmbw9q0dpBdyGaWCe3EoWQ9WTkYz1xyM11VFAHNX3hm9lms7+w1Qw6rbRGFrmSMOs6E5KunHcZGOlP0Hw9fadrGoalqV+l5cXojDeXD5apsGOBk10VFAHN614f1O78RWur6RqENrNBA8DLNB5gYMQc9RjpUZ8OavfXlrcazqdvMbVnMYhtjHncpXn5j611FFAHNReE2i+H9n4aF1n7LbQwCfZ97yyvOM99tNuvDWpQapcXvh7VI7I3m1rmGaDzUZwAoccjDYAB7HArp6KAOUvvCupXMmmXaarHJfWSyK0lzbB0feQSQvADDaAD2GR3qCw8D3NtaWsFxqvnrbaodQX9yFzlnYrx6lzz7CuyooASuc1Dw3ef2xJqmg6gLG5uFVbhJYvMimx0JXIIYDjIrpKKAOf0rw5cW+oy6pq98b/UXj8pZAnlpEmclVXtk8k5quPB5/4V5ceGPtf+uhli8/Z03sTnH411FFAHN6n4TGpSauz3JRdStY4MKvMZQsQffluntWpo9rf2tl5eq3cd1MDw8UXljHYYyf51oUUAcxeK2l+P4NQk4tNSthaO3ZJUYtHn6hnH1x61f0TQ/7HOpnzvNF9fSXf3cbN+Pl98YrSuLaG6j8u4iSVMg7XGRnrUoGBigDjm8CyRXLTabqLWjwXDXFh8m4W5cYlQj+JGODjjBFXZfD+r32j6nZ6tq0c73ts0CeVbiNItwIzjOSee57V0tFAHL2Gj+KbWO2gm1mwlt4QqMosiGZRxjO7rjvUcPhfWdJ8y38O6zHa2DMWS3nthL5JJyQhyMDrwc4rrKKAMGysbLwhod3cXVy8pLPcXVzKctKx74H0AAHsBTfBWn3Nh4f8zUE8u8vZ5byeP8A55tI5YJ/wEEL+Fbc9vFcqqzRrIqsGAYZww6H8KlAwOaACiiigAooooAKKKKACiiigAooooAKKKKACiiigAooooAKKKKACiiigAooooAKKKKACiiigAooooAKKKKACiiigAooooAKXNJRQAUUUUAFFFFABRRRQAUUVwt0zw+PEnQrcyvcRxC3MEgeNCpy6vnbgdTx+OaAO6orKurq/OpJa2Jt1/c+YzTAnvjAwaXZr3/PbT/+/b//ABVAGpRWXs17/ntp/wD36f8A+Ko2a7/z20//AL9P/wDFUAalFZezXf8Antp//fp//iqNmu/89tP/AO/T/wDxVAGpRWXs13/ntp//AH6f/wCKo2a7/wA9tP8A+/T/APxVAGpRWXs13/ntp/8A36f/AOKo2a7/AM9tP/79P/8AFUAalFZezXf+e2n/APfp/wD4qjZrv/PbT/8Av0//AMVQBqUVl7Nd/wCe2n/9+n/+KpGXXgpKyaexxwPLcZ/8eoA1aKyYhr7xKZDYRuR8y7XOPxzT9mu/89bD/v2//wAVQBp0VmbNd/562H/ft/8A4qjZrv8Az1sP+/b/APxVAGnRWZs13/nrYf8Aft//AIqjZrv/AD1sP+/b/wDxVAGnRWZs13/nrYf9+3/+Ko2a7/z1sP8Av2//AMVQBp0VmbNd/wCeth/37f8A+Ko2a7/z1sP+/b//ABVAGnRWZs13/nrYf9+3/wDiqNmu/wDPWw/79v8A/FUAadFZZGuKMmWw/wC/b/8AxVVINW1FdYhtrhbaWB2KGSJWUhgM45JBoFfU36KQdBmloGFFFFABRRRQAUm0ZzgZpaKAM0jHihcf8+n/ALNWlWa3/I0L/wBen/s1aVABRRRQAUUUUAFFFFABRRRQAUUUUAFFFFABRRRQAUopKUUARXM621rJPJnZGhdsDsBms5NcZ0DLpeoEMMj9yP8AGrOs/wDICvv+vaT/ANBNME88NrB5NnJcAoMlHUY49yKBN2IhrT/9ArUP+/I/xo/tp/8AoFah/wB+h/jUovbr/oF3H/fcf/xVH226/wCgXcf99x//ABVPlZPOiL+2n/6BWof9+h/jR/bT/wDQK1D/AL9D/GpDe3f/AEC7j/v5H/8AFVU1rWp9M0dblbULNJPHAizONqF3ChmK5wBnNLYadyx/bT/9ArUP+/Q/xo/tp/8AoFah/wB+h/jXFxeO9RmW9lY2kL2gWNYgzOk8hdlAUgZJOAAPc5rpvDeqX95e3ltqYj82JIpD5RyiF15UHuAR1oKJjqkmpzyWFtDcW0igGZpU2lFPQj3ODTryCO3vtKjiXaiysAP+AmprQf8AFQX/AP1zi/8AZqbqY/4mumf9dW/9BNMmxq0UUUigooooAKKKKAA9K5a98VKnjKx0q3uLdY2laO4DuN7N5ZZQB+A598V1NVZdPtJrqG4kt42mhYtG+0ZU4xn8jQBRklK+LIkEcjbrQ5ZV4X5u9bArN6eKF/69P/Zq0qACiiigAooooAKKKKACiiigAooooAKKKKACiiigAooooApaz/yA77/r3k/9BNT2rAWcOSB+7H8qg1n/AJAd9/17yf8AoJpsdvbXNpAZtrYjGMPjt7GlqGheDr/eH50m5P7w/Oqn2CxHYf8Afw/40fYLH0H/AH8P+NL3h+6Ww6f3h+dUdbt7O60eePUZlhtSAXkLhQoBB5J4p32Cx9B/38P+NZvibTDd+H/I09fMlhninjj3AhijhsEMcEcdM09RO3Qy4LTwpZQqsSRXcaKiqQBKspeTAx2LbifoCa1NLvvD9teGDSbm3drlyD5DhlDKvC8dOBwPrWHY+H9Qi8MWyyLCl5Fqf20wqVA27ySvXGcEn6iptN8M3lneWRupbWZkujdz3EK+WWYIVC4z/tfgBTA6Oz/5GDUP+ucX/s1QapOf7f0uHypMb2bzMfL908Z9ansiD4g1DBBxHF3/AN6m6n/yFtM/66t/6CaANWiiigAooooAKKKKACk70tYlx4kFv4gg017OXbNJ5aTbhy20tkL1IGOTQBYb/kaV/wCvT/2etOsqSRE8VRhmUM1p8oJ5PzVq0AFFFFABRRRQAUUUUAFFFFABRRRQAUUUUAFFFFABRRRQA2RFkjZHAZWGGU9CPSqI0HSP+gZaf9+V/wAK0KKAM86BpP8A0DbT/vyv+FJ/YGk/9Ay0/wC/K/4Vo0UAZraFpCqSdNtAB38lf8KoxaFpl9dCUadai2j5jHkj5z/e6dKvXG7Ubg28TFbdDiZwcbj/AHR/U1oKgUAKAABgYFBK1ZQ/4R/SO+mWn/flf8KP+Ef0j/oGWn/flf8ACtGigogtbG1slYWdvFAGOWEaBc/lVHU/+Qtpn/XVv/QTWrWPqk0Y1rTIt6+Z5jNszzjaecUAbFFAORRQAUUUUAFFFFABWBd+HJrzWIruXUCYYbhZ0iMQ3IVH3Q+eFJ6jHNb9FAGU0anxShIBK2nBPUfNWrWa3/Izr/16f+zVpUAFFFFABRRRQAUUUUAFFFFABRRRQAUUUUAFFFFABRRRQAUUUUAFULy4eWYWdsSsrDLyD/lmvr9fSpL26MIWKAB55DhF/r9BTrS1FrDtyXdjudz1Zu5p7EPV2RJbwJbwrFH0UY+tS0gpaRS0CiiigYVk6pGp1jS32jd5jDOOcbTWtWXqf/IW0v8A66t/6CaANSiiigAooooAKKKKACqrajarfLZm4jFwwyIt43EfSrVcbPaNc+NVMmk3MUENwsq3EcQImcKQGZ88KM4wBQBvk/8AFTr/ANen/s1adZEkZbxVCwdhstCNoOAfm7+ta9ABRRRQAUUUUAFFFFABRRRQAUUUUAFFFFABRRRQAUUUUAFQXV0lrCXbk9FUdWPoKfPKkELSSMFRBliewqlaRPdT/bLlSv8Azxjb+BfU+5/Smu5Em9kPsrd0LT3Lb7iT7xHRR/dHt/PrV6kwO1LSvcpJJBRRRQMKKKKACsvU/wDkLaZ/11b/ANBNalYuqRH+39LlEj48xhs3fL9084oA2qKKKACiiigAooooAKKKMigDMP8AyNI/69P/AGatOsz/AJmgf9en/s1adABRRRQAUUUUAFFFFABRRRQAUUUUAFFFFABRRRQAUjEBSScADk0tZtwzX9wbWP8A1C8TOOM/7I/rTWpLY1M6rOJG/wCPSNsoP+ejDv8AT0rTApEVUUKgCqowAO1OoYohRRRSLCiiigAooooAKytU/wCQppn/AF2b/wBBNatZeqf8hTTP+uzf+gmkBqUUUUwCiiigAooooAKwLs3cfjexUXb/AGWW2lJt8fLuUphs9zya36YyKZAxUFl6HHSgDLk80eK4xHt2fZDuz1+9xites3/mZx/16f8As1aVABRRRQAUUUUAFFFFABRRRQAUUUUAFIxwOKWmucISewoAqQz3VwpaIRBdxHzZ7GpMXnfyf1pum8adEf7wz+tF5d+SFjhG+eThE/qfYVKV0OVkyrdTXryi0tnhErjLOAT5a+v19Kngt7m2hSKIQ7VHcmpbO2FtFhjvlY7nc/xH/CrNNrsJMrf6Z6Q/rSf6Z6Q/rVqiiw7+RV/030h/Wj/TfSH9atUUrBfyKv8ApvpD+tH+m+kP61aoosF/Iq/6b6Q/rR/pvpD+tWqKLBfyKv8ApvpD+tZ1+bn+19N83y9vmtjbnOdprbrK1T/kLaX/ANdm/wDQTTtYLmqOnNFFFMQUUUUAFFFFABRRXK3Hia8i1x40t4DYx3kVm7Fj5hZ/4h2wCRxQBrn/AJGgf9en/s1adY9zOtr4gSeZZAhttuVQnnd04qz/AG1af9Nv+/Lf4UgL9FZ/9tWn/Tb/AL8t/hS/2zaf9Nv+/Lf4UXAv0VQ/tm0/6bf9+W/wo/tm0/6bf9+W/wAKLgX6Kof2zaf9Nv8Avy3+FH9s2n/Tb/vy3+FFwL9FUP7ZtP8Apt/35b/Cj+2bT/pt/wB+W/wouBfoqh/bNp/02/78t/hR/bNp/wBNv+/Lf4UXAv1FctttZT6If5VV/tm0/wCm3/flv8KrX+s25sZhEkzNsOAIW59ulJ7DW5YinWz0mJ35wgAXuxPQCnWdq4Zrm5O6eTr6KOyisbT9WhnMd1fRTxFUCxQmFv3fHJPHX/PrWp/b1kP+e3/flv8ACqWisRu7mkBilrM/t+y/6bf9+W/wo/t+y/6bf9+W/wAKCjTorM/t+y/6bf8Aflv8KP7fsv8Apt/35b/CgDTorM/t+y/6bf8Aflv8KP7fsv8Apt/35b/CgDTorM/t+y/6bf8Aflv8KP7fsv8Apt/35b/CgDTorM/t+y/6bf8Aflv8KP7fsv8Apt/35b/CgDTrK1T/AJC2l/8AXZv/AEE07+37L/pt/wB+W/wqnPqEV/rOnrbJKfLkZmLRMABtPcigDfooooAKKKKACiiigArHm8M6fNqy6g4l8wSLKYxIRG0ijAcr0JFbFI670KnIBGODg0AZOo69b2GpQWLRTzTzDcBEuQozjnmtYdK5PVfB8l0fKs5oxG6bDNcBpJoec7kbPX69K6xRhQOuKADFLRRQAUUUUAFFFFABRRRQAUUUUAFVNT1CDS9Pku7st5aYGFGSSTgAD1JNW6zdf0x9X0h7WKVYZN6SI7LkBlYMMj0yKAH6VqsGqwSPAskbROY5I5V2sjDqCPxq+KydB0yfTo7p72WOS4u5zPJ5QIRSQBgZ56AVrUAFFFFABmjNFFABmjNFFABmjNFFABmjNFFAC1kXOvW8GuLpghnlnZVYlFBVAc4yc+xrXFczq/hy41HWhcJJbRxF4nMnlHzl2HOAwPQ+/TmgDpR0ooFFABRRRQAUUUUAFFFFABRRRQAUUUUAFFFFABRRRQAUUUUAFFFFABRRRQAYooooAKKKKACiiigAooooAKKKKACiiigApMUtFABRRRQAUUUUAFFFFABRRRQAUUUUAFFFc3qnjvRtLa7815pY7Jgl1NDGWSFzj5WP97kcdsigDpM0mR61k6/raaP4VvdYK5WC3aVQe/HArL0GNdC8JvrmtTyzXc8AubyZiXPTIVV7KM4AFAHV0mR61z+leMLDVtbbSYIbqO6SETyLNCVCIemT2J7DrxWX4rnPhTW9L1u1kkFve38VlfwFyUYSnasgHZg23kdQaAO1oqK4uIrO1luLpxHFCpd3PRVHJP5VzX/CzfB3/Qdg/wC+H/woA6qiqum6nZ6vp8d7ps6z20udkiggNg4PX3FUNf8AE+n+HGsxqbSILyXyYmWMsC+OAcetAGzRXHN8T/D6Wt1M7XS/YpNl3GbZt9vxnc47DvmtTUfF2nadtBE9wzW/2rbbwl8Rf3z2x+tAG7RXOt430hZdHUSSPHrWPscyxny3JGcFuxwM4NaOja1ba5bSz2Yk8uOVotzptDFTg49R70AaNFcppGp3viPxTqDw3DQaXpU/2YRoBm4lAyxY/wB0Zxgd6TxPrV4nifRvD+mz/ZpL/wAySecKGZI0H8IPGSSOTmgDrM0VyPgnXb3ULzXdI1WVZ7rRr3yPPVQvmoyh0JA4zg4NddQAUVk6z4itNEnt4blJ5JbgOUSGMscKMkn0AyOTTdF1y18VaJ9t0xp1t5SyLIV2Mccblz296ANiiuW8O6vdp4k1Hw3q0vn3NnHHcQTlcGaF8gE4/iBUg+vBrqaACiiigAooooAKKKKACiiigAooooAKKKKACiiigCvfXkGn2Mt1eSrDBEpZ5GOAorxpbPVY/DeleF7yyMcmoa4z3Fy5H+kq0zS7lx1G0DJPTGK9j1HT7bVdPmsr+JZraZSkkbdGHpVGx8L6ZYXkd3HHJLcQp5cUlxM8piX0XcTj8KAIvGGjPrfgrUtLt8CSa2ZI/wDexx+tY8PiO8uPhzFNoFkbzVI4kge1JG6CXGDvB6YIzjvXaEZGKghsraC4lnhgjSaYASSKoBfHTJ79aAOV8B6dPpwvIp7CdJHKzTX9zgSXczZ3HA6KOABUHj9V16+0Tw3ZsJLhtSgvLkLz5METbyW9CSAo9zXcY9Khis4IZ5JooY0klOZHVMFz7nvQAXMMs1jLDBN5EroVSXaH2HHBweDj0Ncp/wAIn4o/6HQj/uEwV2VFAFLSbS5stNigv7z7dcJndceUse/nP3V4Hp+Fc545sL291Lw29jZyXK2upJNMUx8iAEZOfrXYUdaAPKr/AELV5G+Ixj02YjVxH9iPH73EIQ9/UflU9zbeJ50t9OktL1NP/slEiW0dY2NxtIYSv1AHGAOOTmvTSKKAPLIPD+qah8OfD/hK802a1ZYALq8IBNqycrsOc7i2MHsK7DwNNqLeGYrbWNONhc2pMOAAFkA4DgDpkc4ro9uKMUAcV8Pl/s/UPEmkznbcR6pJcBT1ZJAGVh7dR+FS+K9Kvk8X6F4h0+1a7Wy82G5ij+/5bj7w9cEDiuim0ezuNTh1B4QLuEEJMpKtg9VJHUexyKvc0Acn4K0e8s73XtY1GI28usXonSFjlkjVAiZ9yBnHvWl4e19tck1M/Zmihs72S1ikJyJgmMsPbJI/CtrbTIoUhTZGiog6KowKAOL8dDVdTvrbSLexuzpTIZL24tsb5BniFeeM45PpXTeHt66BaCawXTmEYH2VTkRDsv5VokZpkkQliaNiwDDB2sQfzHIoA43TozqPxm1bUbc5t7DS4bB2HRpWkaQj6gYz9a7aqemaVaaRaC3sIFhjBJwvcnqSepJ9TzVygAooooAKKKKACiiigAooooAKKKKACiiigAooooAKKKKACiiigAooooAKKKjlmSFGeV1RF6sxwBQBJRSKwZQynIIyCO9LQAUUUUAFFFFABRRRQAUUUUAFFFFABRRRQAUUUUAFFFFABRRRQAUUUUAFFFFABRRRQAUVm6rrlnpM9lBdF/NvpxBCqLuJYgnn0GASTV95FijLyMFUDJJOAKAH0VXsb+11K1W5sLiO4gYkLLG25WwccEdasUAFFVX1G0j1JLGS5iW6kTekDNhmX1A79O1WQc0ALRRRQAVw+rt/b3xOs9CuSWsLGzN7NB2lkLbU3eoGCcGu4rg1Y23x4YN0vNG+X/gEnP8A6FQB2V7drp1k8ogllEYAWKBNzN2AArH8GeKX8W6XdXj2L2DW95LamGRwzAxnackcZznpke9blxNDbW7z3MiRRIMs8jBVUepJrz/4P6nY3Wla1DbXkEsn9tXkoRJASUaUkNj0PrQB6NRWedZsv+EiGied/p/2b7X5W0/6vdtznp17VoUAFFFFABRRRQAUUUUAMllWFC8jKqDqWOAKigv7S5fZb3MMrYztSQE/kKwvHeq6TpnhS4k1yMT28hEa25bHnOT8qfievtzWF8ObHSv7S1G+WS1udaZYxdPZgGG2VslYIyvHAGT35BPagDtdW1S30bS5b+98wQRYLmOJpCoJxnaoJwM5PtSaZrOnazaLc6Zew3ULdHicMP8A61O1bVLPRdMlv9TnWC2iA3uwJxk4AwOSSTjFed3ul3fii/8AtvhTRpfD7u2W1e4Jt5HHqIRy3/AwKAPUKw/EfiL+xZNPtLaAXN/qU/kW8LPsXgFmZjzgADPStWzjlis4Y7iUzSogV5CMbyBycds1xPj3/QPGPhLWrk7NPtbmWG4lPCxGRMKzHoBnjJ9aAN3w34lbWrzUrC7txa6hpkwinjV9ysCNyupwOCD+HSugrhPBKC+8b+Kdbt/nsriWGCCZeVlMaYYqe4BOM+xrvKAEooooAKKKKACiiigDO1/Wbfw/oF7qt3kxWkLSsB1bAzge56VyNt4j8Sf8JH4bsruS0xq8ctxcQLEd1tGqAqN2eTlgCa1PiCDdaFHpUtnPNZanIba6ngUs1shUkPtAJPzBR0781i+ENDun8cT6zcyXVzDa2K2UFzdReU0p3ZbCYG1RhR7nNAHZ3WjW95rFlqM5ZpLJXESk8AtgFvrgY/Guc+IM7T3Ph/QmYiDV9Q8q4AON8aKXKn2OAD7V2lcx410a71CDTtR0yPzb3SbsXUUROPNGCrqD6lSce9AHRrGILcRwIqhFwiDgD0FcNo2ueJ9R8Vrpi3VlcxWX/IUligIjic8iFGzy+MZ9PxrqTI+uaA/2OW4sHuIyqyNHtkiPQnae4rJ8N+DJPDrWiR6tPNa2qti3EYQSO3WSQjl2PJye5oAk+INms/g29uY/kurFPtVtKPvRyJyCD29Poa2dFvTqOh2V6ww1xAkhHuQDWH44F3qelPoGmwSvPqKeW8u0iOGMnDMW6ZxnA610VjaR2OnwWsPCQxrGvHYDFAGF4r1+90VrYWUukx+aG3f2jd+TnGPu+tZOleMtVvdVtraa48NmOWQKwt9SDyEH+6vc+1ddfaPp2qFP7SsLa78vOzz4VfbnrjIqvB4Y0K2uEnttGsIZozlJI7ZFZT6ggcUAamdoya4ewC638WrnUNj2/wDY9mbQRyja8pkbcXA7p8uAfrXc7eK4S6lJ+OunxQcAaNKZwP4v3i7c/rQB3DKroVdVZT1BGQabFBBEcxRRqcYyqgVzfxB1y60Lwv5unuIrq5uYrWKQjPltI4Xdg9cA1m6deX2ifE2DQZr+4vbG+09riP7S+9o5EbDYb0IIOOx6UAdZHo9pFrc+rKm68miWFpWOSsa8hR6DJJ9zV+l60mKACiiigAooqK6uYbK0lurqQRwwoZJHboqgZJ/KgCWiuRtfHtncyacZbK6t4NVUmxmlUATcbgMZ+UkcjNcfqXjXVNf+F3iG/ktbjT5LOedILiCXZs8ubaBlTknHB7HmgD1qSGOZdsqK6+jDNEUEUAIhjSMHqFXFc1o3jCG71ePR7i0urS4a0+0xPcIAsyDAYjnjGRwfWo4vH2nyS2jiCcWN7dG0t7wgbXk5A46gEggGgDrGVXGGAIznmlxxXIJ49hmv7uzt9I1CeSyvFtbgxRgiMtjDZz05pH+ImmQaLrGpXVvcQx6RcfZp0ZQXZ8gYAB56igDrwMUkkaSoUkVXU9VYZBrlNY8XwrDcW1lFdNu0pr5bqBVPloV4Iz/F3APXFV7DxtAun6da2kd3q97LpqXrABVkeMj7xHTcfQUAdmkaxqFjVVVRgADAFPFc1deL4Iri2tbezubi+mtRdtaqoVokI/iz0OeMetamg63Z+I9DtdW0xy9tdJvQkYPoQR6ggigDQooooAKKKKACiiigAo6dKKKACiiigAooooAKKKKACiiigBa4OBNvx4umk/i0ZPLz3/eHP9K7wVzviDw/c3erWWt6NLHFqdkGQCYHZPE33o2I5HQEEZwexoAZ468PT+JfDL2lk6pdwzR3NvvOFMkbBgD7HFVNM0XUr/xsniHV7dbQW1j9lgg3h2LMcuxI7cAD8662MuYlMihXwNwByAadQBhQ6xeS+OZtJjtQ2nwWKyyXXPyzM+BH6H5Ru/L1re7UwIN2cDOaeaAEooooAKzfEOlDXfDWo6UZPLF7bSQbwPu7lIz+taVFAHndt4a13Ubfwvp+q20drHobI9xOsu4XDIm1dgHIB68/SsyTwj4lh8DeJPDMOnwzC7u55rS588AOsku8ZB6Ec5r1eigDiZ9C1W58b6TfNaKllBpUtrM/mDKu+04A7429fesrwr4LuNH+y6bf+GNLuBZzbl1Ryrb1DEhguNwf/Oa9LooA5TwnpGpabrviOe/t1iiv70XEDiQMWXYq8gdD8ufxrMuPA93cfEG6vG8o6HdqLqSI/eN0EaMcem1s/UCu+ooA860LwbrGl+B9XtLxY7nUp7d7O3CvgGFVKRAsenByaz73wbq114Y02wl0RV1Kw01IbPUrW8EUttOq45YclMgHHOfSvVaKAPNb7wfqsfiS01m70y08QySaZFZ3aylUIlTkyLu4wSTXcaDYDTdFt7UWVrY7ASba0XEcZJJIHA9fTrmtKigAooooAKKKKACiiigAooooAKKKKACiiigAooooAKKKKAFFFFFACUUUUAFKaKKAEooooAKKKKACiiigAooooAKKKKACiiigAooooAKKKKACiiigD//Z)\n",
        "3. Выходной слой с вероятностью возникновения цифр от 0 до 9, активация = наибольшая вероятность"
      ]
    },
    {
      "cell_type": "code",
      "metadata": {
        "id": "Vrw3ZLLKWuMZ"
      },
      "source": [
        "model = tf.keras.models.Sequential([tf.keras.layers.Flatten(input_shape=(28,28)), \n",
        "                                    tf.keras.layers.Dense(128, activation='relu'), \n",
        "                                    tf.keras.layers.Dense(10, activation=tf.nn.softmax)])"
      ],
      "execution_count": null,
      "outputs": []
    },
    {
      "cell_type": "code",
      "metadata": {
        "id": "iOQXHUjVW3ol"
      },
      "source": [
        "#оптимизация, настройки сети\n",
        "\n",
        "model.compile(optimizer = 'adam',\n",
        "              loss = 'sparse_categorical_crossentropy',\n",
        "              metrics=['accuracy'])\n"
      ],
      "execution_count": null,
      "outputs": []
    },
    {
      "cell_type": "code",
      "metadata": {
        "id": "catgliv2W7-L",
        "colab": {
          "base_uri": "https://localhost:8080/"
        },
        "outputId": "d1b5d991-e664-4acd-e06e-5b95bf7cf8e9"
      },
      "source": [
        "#обучение \n",
        "\n",
        "model.fit(training_images, training_labels, epochs=5)"
      ],
      "execution_count": null,
      "outputs": [
        {
          "output_type": "stream",
          "name": "stdout",
          "text": [
            "Epoch 1/5\n",
            "1875/1875 [==============================] - 5s 2ms/step - loss: 0.2581 - accuracy: 0.9258\n",
            "Epoch 2/5\n",
            "1875/1875 [==============================] - 4s 2ms/step - loss: 0.1133 - accuracy: 0.9661\n",
            "Epoch 3/5\n",
            "1875/1875 [==============================] - 4s 2ms/step - loss: 0.0781 - accuracy: 0.9771\n",
            "Epoch 4/5\n",
            "1875/1875 [==============================] - 4s 2ms/step - loss: 0.0574 - accuracy: 0.9826\n",
            "Epoch 5/5\n",
            "1875/1875 [==============================] - 4s 2ms/step - loss: 0.0459 - accuracy: 0.9856\n"
          ]
        },
        {
          "output_type": "execute_result",
          "data": {
            "text/plain": [
              "<keras.callbacks.History at 0x7fe714d1c890>"
            ]
          },
          "metadata": {},
          "execution_count": 8
        }
      ]
    },
    {
      "cell_type": "code",
      "metadata": {
        "id": "2MQGmYxnX-2U",
        "colab": {
          "base_uri": "https://localhost:8080/"
        },
        "outputId": "f70120be-d5b3-4cb3-b834-f7c09fde48a3"
      },
      "source": [
        "print(model.evaluate(test_images,test_labels))\n",
        "#print(model.predict(test_images[0]))"
      ],
      "execution_count": null,
      "outputs": [
        {
          "output_type": "stream",
          "name": "stdout",
          "text": [
            "313/313 [==============================] - 1s 2ms/step - loss: 0.0708 - accuracy: 0.9772\n",
            "[0.07081610709428787, 0.9771999716758728]\n"
          ]
        }
      ]
    },
    {
      "cell_type": "code",
      "metadata": {
        "id": "dL5-ODzvCtDj",
        "colab": {
          "base_uri": "https://localhost:8080/",
          "height": 282
        },
        "outputId": "5462b931-d3a3-454d-fde8-969639ef68ca"
      },
      "source": [
        "plt.imshow(test_images[0])\n",
        "prediction=model.predict(test_images)\n",
        "print('Логичечкий вывод нейронки:',np.argmax(prediction[0]))"
      ],
      "execution_count": null,
      "outputs": [
        {
          "output_type": "stream",
          "name": "stdout",
          "text": [
            "Логичечкий вывод нейронки: 7\n"
          ]
        },
        {
          "output_type": "display_data",
          "data": {
            "image/png": "[encoded data removed]",
            "text/plain": [
              "<Figure size 432x288 with 1 Axes>"
            ]
          },
          "metadata": {
            "needs_background": "light"
          }
        }
      ]
    },
    {
      "cell_type": "markdown",
      "metadata": {
        "id": "EbjfQj5EJTFD"
      },
      "source": [
        "# Испробуем нейронную сеть!"
      ]
    },
    {
      "cell_type": "code",
      "metadata": {
        "id": "Yv-72Z_MEEcn",
        "colab": {
          "resources": {
            "http://localhost:8080/nbextensions/google.colab/files.js": {
              "data": "Ly8gQ29weXJpZ2h0IDIwMTcgR29vZ2xlIExMQwovLwovLyBMaWNlbnNlZCB1bmRlciB0aGUgQXBhY2hlIExpY2Vuc2UsIFZlcnNpb24gMi4wICh0aGUgIkxpY2Vuc2UiKTsKLy8geW91IG1heSBub3QgdXNlIHRoaXMgZmlsZSBleGNlcHQgaW4gY29tcGxpYW5jZSB3aXRoIHRoZSBMaWNlbnNlLgovLyBZb3UgbWF5IG9idGFpbiBhIGNvcHkgb2YgdGhlIExpY2Vuc2UgYXQKLy8KLy8gICAgICBodHRwOi8vd3d3LmFwYWNoZS5vcmcvbGljZW5zZXMvTElDRU5TRS0yLjAKLy8KLy8gVW5sZXNzIHJlcXVpcmVkIGJ5IGFwcGxpY2FibGUgbGF3IG9yIGFncmVlZCB0byBpbiB3cml0aW5nLCBzb2Z0d2FyZQovLyBkaXN0cmlidXRlZCB1bmRlciB0aGUgTGljZW5zZSBpcyBkaXN0cmlidXRlZCBvbiBhbiAiQVMgSVMiIEJBU0lTLAovLyBXSVRIT1VUIFdBUlJBTlRJRVMgT1IgQ09ORElUSU9OUyBPRiBBTlkgS0lORCwgZWl0aGVyIGV4cHJlc3Mgb3IgaW1wbGllZC4KLy8gU2VlIHRoZSBMaWNlbnNlIGZvciB0aGUgc3BlY2lmaWMgbGFuZ3VhZ2UgZ292ZXJuaW5nIHBlcm1pc3Npb25zIGFuZAovLyBsaW1pdGF0aW9ucyB1bmRlciB0aGUgTGljZW5zZS4KCi8qKgogKiBAZmlsZW92ZXJ2aWV3IEhlbHBlcnMgZm9yIGdvb2dsZS5jb2xhYiBQeXRob24gbW9kdWxlLgogKi8KKGZ1bmN0aW9uKHNjb3BlKSB7CmZ1bmN0aW9uIHNwYW4odGV4dCwgc3R5bGVBdHRyaWJ1dGVzID0ge30pIHsKICBjb25zdCBlbGVtZW50ID0gZG9jdW1lbnQuY3JlYXRlRWxlbWVudCgnc3BhbicpOwogIGVsZW1lbnQudGV4dENvbnRlbnQgPSB0ZXh0OwogIGZvciAoY29uc3Qga2V5IG9mIE9iamVjdC5rZXlzKHN0eWxlQXR0cmlidXRlcykpIHsKICAgIGVsZW1lbnQuc3R5bGVba2V5XSA9IHN0eWxlQXR0cmlidXRlc1trZXldOwogIH0KICByZXR1cm4gZWxlbWVudDsKfQoKLy8gTWF4IG51bWJlciBvZiBieXRlcyB3aGljaCB3aWxsIGJlIHVwbG9hZGVkIGF0IGEgdGltZS4KY29uc3QgTUFYX1BBWUxPQURfU0laRSA9IDEwMCAqIDEwMjQ7CgpmdW5jdGlvbiBfdXBsb2FkRmlsZXMoaW5wdXRJZCwgb3V0cHV0SWQpIHsKICBjb25zdCBzdGVwcyA9IHVwbG9hZEZpbGVzU3RlcChpbnB1dElkLCBvdXRwdXRJZCk7CiAgY29uc3Qgb3V0cHV0RWxlbWVudCA9IGRvY3VtZW50LmdldEVsZW1lbnRCeUlkKG91dHB1dElkKTsKICAvLyBDYWNoZSBzdGVwcyBvbiB0aGUgb3V0cHV0RWxlbWVudCB0byBtYWtlIGl0IGF2YWlsYWJsZSBmb3IgdGhlIG5leHQgY2FsbAogIC8vIHRvIHVwbG9hZEZpbGVzQ29udGludWUgZnJvbSBQeXRob24uCiAgb3V0cHV0RWxlbWVudC5zdGVwcyA9IHN0ZXBzOwoKICByZXR1cm4gX3VwbG9hZEZpbGVzQ29udGludWUob3V0cHV0SWQpOwp9CgovLyBUaGlzIGlzIHJvdWdobHkgYW4gYXN5bmMgZ2VuZXJhdG9yIChub3Qgc3VwcG9ydGVkIGluIHRoZSBicm93c2VyIHlldCksCi8vIHdoZXJlIHRoZXJlIGFyZSBtdWx0aXBsZSBhc3luY2hyb25vdXMgc3RlcHMgYW5kIHRoZSBQeXRob24gc2lkZSBpcyBnb2luZwovLyB0byBwb2xsIGZvciBjb21wbGV0aW9uIG9mIGVhY2ggc3RlcC4KLy8gVGhpcyB1c2VzIGEgUHJvbWlzZSB0byBibG9jayB0aGUgcHl0aG9uIHNpZGUgb24gY29tcGxldGlvbiBvZiBlYWNoIHN0ZXAsCi8vIHRoZW4gcGFzc2VzIHRoZSByZXN1bHQgb2YgdGhlIHByZXZpb3VzIHN0ZXAgYXMgdGhlIGlucHV0IHRvIHRoZSBuZXh0IHN0ZXAuCmZ1bmN0aW9uIF91cGxvYWRGaWxlc0NvbnRpbnVlKG91dHB1dElkKSB7CiAgY29uc3Qgb3V0cHV0RWxlbWVudCA9IGRvY3VtZW50LmdldEVsZW1lbnRCeUlkKG91dHB1dElkKTsKICBjb25zdCBzdGVwcyA9IG91dHB1dEVsZW1lbnQuc3RlcHM7CgogIGNvbnN0IG5leHQgPSBzdGVwcy5uZXh0KG91dHB1dEVsZW1lbnQubGFzdFByb21pc2VWYWx1ZSk7CiAgcmV0dXJuIFByb21pc2UucmVzb2x2ZShuZXh0LnZhbHVlLnByb21pc2UpLnRoZW4oKHZhbHVlKSA9PiB7CiAgICAvLyBDYWNoZSB0aGUgbGFzdCBwcm9taXNlIHZhbHVlIHRvIG1ha2UgaXQgYXZhaWxhYmxlIHRvIHRoZSBuZXh0CiAgICAvLyBzdGVwIG9mIHRoZSBnZW5lcmF0b3IuCiAgICBvdXRwdXRFbGVtZW50Lmxhc3RQcm9taXNlVmFsdWUgPSB2YWx1ZTsKICAgIHJldHVybiBuZXh0LnZhbHVlLnJlc3BvbnNlOwogIH0pOwp9CgovKioKICogR2VuZXJhdG9yIGZ1bmN0aW9uIHdoaWNoIGlzIGNhbGxlZCBiZXR3ZWVuIGVhY2ggYXN5bmMgc3RlcCBvZiB0aGUgdXBsb2FkCiAqIHByb2Nlc3MuCiAqIEBwYXJhbSB7c3RyaW5nfSBpbnB1dElkIEVsZW1lbnQgSUQgb2YgdGhlIGlucHV0IGZpbGUgcGlja2VyIGVsZW1lbnQuCiAqIEBwYXJhbSB7c3RyaW5nfSBvdXRwdXRJZCBFbGVtZW50IElEIG9mIHRoZSBvdXRwdXQgZGlzcGxheS4KICogQHJldHVybiB7IUl0ZXJhYmxlPCFPYmplY3Q+fSBJdGVyYWJsZSBvZiBuZXh0IHN0ZXBzLgogKi8KZnVuY3Rpb24qIHVwbG9hZEZpbGVzU3RlcChpbnB1dElkLCBvdXRwdXRJZCkgewogIGNvbnN0IGlucHV0RWxlbWVudCA9IGRvY3VtZW50LmdldEVsZW1lbnRCeUlkKGlucHV0SWQpOwogIGlucHV0RWxlbWVudC5kaXNhYmxlZCA9IGZhbHNlOwoKICBjb25zdCBvdXRwdXRFbGVtZW50ID0gZG9jdW1lbnQuZ2V0RWxlbWVudEJ5SWQob3V0cHV0SWQpOwogIG91dHB1dEVsZW1lbnQuaW5uZXJIVE1MID0gJyc7CgogIGNvbnN0IHBpY2tlZFByb21pc2UgPSBuZXcgUHJvbWlzZSgocmVzb2x2ZSkgPT4gewogICAgaW5wdXRFbGVtZW50LmFkZEV2ZW50TGlzdGVuZXIoJ2NoYW5nZScsIChlKSA9PiB7CiAgICAgIHJlc29sdmUoZS50YXJnZXQuZmlsZXMpOwogICAgfSk7CiAgfSk7CgogIGNvbnN0IGNhbmNlbCA9IGRvY3VtZW50LmNyZWF0ZUVsZW1lbnQoJ2J1dHRvbicpOwogIGlucHV0RWxlbWVudC5wYXJlbnRFbGVtZW50LmFwcGVuZENoaWxkKGNhbmNlbCk7CiAgY2FuY2VsLnRleHRDb250ZW50ID0gJ0NhbmNlbCB1cGxvYWQnOwogIGNvbnN0IGNhbmNlbFByb21pc2UgPSBuZXcgUHJvbWlzZSgocmVzb2x2ZSkgPT4gewogICAgY2FuY2VsLm9uY2xpY2sgPSAoKSA9PiB7CiAgICAgIHJlc29sdmUobnVsbCk7CiAgICB9OwogIH0pOwoKICAvLyBXYWl0IGZvciB0aGUgdXNlciB0byBwaWNrIHRoZSBmaWxlcy4KICBjb25zdCBmaWxlcyA9IHlpZWxkIHsKICAgIHByb21pc2U6IFByb21pc2UucmFjZShbcGlja2VkUHJvbWlzZSwgY2FuY2VsUHJvbWlzZV0pLAogICAgcmVzcG9uc2U6IHsKICAgICAgYWN0aW9uOiAnc3RhcnRpbmcnLAogICAgfQogIH07CgogIGNhbmNlbC5yZW1vdmUoKTsKCiAgLy8gRGlzYWJsZSB0aGUgaW5wdXQgZWxlbWVudCBzaW5jZSBmdXJ0aGVyIHBpY2tzIGFyZSBub3QgYWxsb3dlZC4KICBpbnB1dEVsZW1lbnQuZGlzYWJsZWQgPSB0cnVlOwoKICBpZiAoIWZpbGVzKSB7CiAgICByZXR1cm4gewogICAgICByZXNwb25zZTogewogICAgICAgIGFjdGlvbjogJ2NvbXBsZXRlJywKICAgICAgfQogICAgfTsKICB9CgogIGZvciAoY29uc3QgZmlsZSBvZiBmaWxlcykgewogICAgY29uc3QgbGkgPSBkb2N1bWVudC5jcmVhdGVFbGVtZW50KCdsaScpOwogICAgbGkuYXBwZW5kKHNwYW4oZmlsZS5uYW1lLCB7Zm9udFdlaWdodDogJ2JvbGQnfSkpOwogICAgbGkuYXBwZW5kKHNwYW4oCiAgICAgICAgYCgke2ZpbGUudHlwZSB8fCAnbi9hJ30pIC0gJHtmaWxlLnNpemV9IGJ5dGVzLCBgICsKICAgICAgICBgbGFzdCBtb2RpZmllZDogJHsKICAgICAgICAgICAgZmlsZS5sYXN0TW9kaWZpZWREYXRlID8gZmlsZS5sYXN0TW9kaWZpZWREYXRlLnRvTG9jYWxlRGF0ZVN0cmluZygpIDoKICAgICAgICAgICAgICAgICAgICAgICAgICAgICAgICAgICAgJ24vYSd9IC0gYCkpOwogICAgY29uc3QgcGVyY2VudCA9IHNwYW4oJzAlIGRvbmUnKTsKICAgIGxpLmFwcGVuZENoaWxkKHBlcmNlbnQpOwoKICAgIG91dHB1dEVsZW1lbnQuYXBwZW5kQ2hpbGQobGkpOwoKICAgIGNvbnN0IGZpbGVEYXRhUHJvbWlzZSA9IG5ldyBQcm9taXNlKChyZXNvbHZlKSA9PiB7CiAgICAgIGNvbnN0IHJlYWRlciA9IG5ldyBGaWxlUmVhZGVyKCk7CiAgICAgIHJlYWRlci5vbmxvYWQgPSAoZSkgPT4gewogICAgICAgIHJlc29sdmUoZS50YXJnZXQucmVzdWx0KTsKICAgICAgfTsKICAgICAgcmVhZGVyLnJlYWRBc0FycmF5QnVmZmVyKGZpbGUpOwogICAgfSk7CiAgICAvLyBXYWl0IGZvciB0aGUgZGF0YSB0byBiZSByZWFkeS4KICAgIGxldCBmaWxlRGF0YSA9IHlpZWxkIHsKICAgICAgcHJvbWlzZTogZmlsZURhdGFQcm9taXNlLAogICAgICByZXNwb25zZTogewogICAgICAgIGFjdGlvbjogJ2NvbnRpbnVlJywKICAgICAgfQogICAgfTsKCiAgICAvLyBVc2UgYSBjaHVua2VkIHNlbmRpbmcgdG8gYXZvaWQgbWVzc2FnZSBzaXplIGxpbWl0cy4gU2VlIGIvNjIxMTU2NjAuCiAgICBsZXQgcG9zaXRpb24gPSAwOwogICAgZG8gewogICAgICBjb25zdCBsZW5ndGggPSBNYXRoLm1pbihmaWxlRGF0YS5ieXRlTGVuZ3RoIC0gcG9zaXRpb24sIE1BWF9QQVlMT0FEX1NJWkUpOwogICAgICBjb25zdCBjaHVuayA9IG5ldyBVaW50OEFycmF5KGZpbGVEYXRhLCBwb3NpdGlvbiwgbGVuZ3RoKTsKICAgICAgcG9zaXRpb24gKz0gbGVuZ3RoOwoKICAgICAgY29uc3QgYmFzZTY0ID0gYnRvYShTdHJpbmcuZnJvbUNoYXJDb2RlLmFwcGx5KG51bGwsIGNodW5rKSk7CiAgICAgIHlpZWxkIHsKICAgICAgICByZXNwb25zZTogewogICAgICAgICAgYWN0aW9uOiAnYXBwZW5kJywKICAgICAgICAgIGZpbGU6IGZpbGUubmFtZSwKICAgICAgICAgIGRhdGE6IGJhc2U2NCwKICAgICAgICB9LAogICAgICB9OwoKICAgICAgbGV0IHBlcmNlbnREb25lID0gZmlsZURhdGEuYnl0ZUxlbmd0aCA9PT0gMCA/CiAgICAgICAgICAxMDAgOgogICAgICAgICAgTWF0aC5yb3VuZCgocG9zaXRpb24gLyBmaWxlRGF0YS5ieXRlTGVuZ3RoKSAqIDEwMCk7CiAgICAgIHBlcmNlbnQudGV4dENvbnRlbnQgPSBgJHtwZXJjZW50RG9uZX0lIGRvbmVgOwoKICAgIH0gd2hpbGUgKHBvc2l0aW9uIDwgZmlsZURhdGEuYnl0ZUxlbmd0aCk7CiAgfQoKICAvLyBBbGwgZG9uZS4KICB5aWVsZCB7CiAgICByZXNwb25zZTogewogICAgICBhY3Rpb246ICdjb21wbGV0ZScsCiAgICB9CiAgfTsKfQoKc2NvcGUuZ29vZ2xlID0gc2NvcGUuZ29vZ2xlIHx8IHt9OwpzY29wZS5nb29nbGUuY29sYWIgPSBzY29wZS5nb29nbGUuY29sYWIgfHwge307CnNjb3BlLmdvb2dsZS5jb2xhYi5fZmlsZXMgPSB7CiAgX3VwbG9hZEZpbGVzLAogIF91cGxvYWRGaWxlc0NvbnRpbnVlLAp9Owp9KShzZWxmKTsK",
              "ok": true,
              "headers": [
                [
                  "content-type",
                  "application/javascript"
                ]
              ],
              "status": 200,
              "status_text": ""
            }
          },
          "base_uri": "https://localhost:8080/",
          "height": 72
        },
        "outputId": "67fa74b5-953a-43c1-a49b-38c595ea3e21"
      },
      "source": [
        "#@title Загрузим изображение (черный фон)\n",
        "from google.colab import files\n",
        "uploaded = files.upload()\n",
        "filename=list(uploaded.keys())[0]"
      ],
      "execution_count": null,
      "outputs": [
        {
          "output_type": "display_data",
          "data": {
            "text/html": [
              "\n",
              "     <input type=\"file\" id=\"files-8e35e7e5-129f-422b-a700-cd6e1ab18595\" name=\"files[]\" multiple disabled\n",
              "        style=\"border:none\" />\n",
              "     <output id=\"result-8e35e7e5-129f-422b-a700-cd6e1ab18595\">\n",
              "      Upload widget is only available when the cell has been executed in the\n",
              "      current browser session. Please rerun this cell to enable.\n",
              "      </output>\n",
              "      <script src=\"/nbextensions/google.colab/files.js\"></script> "
            ],
            "text/plain": [
              "<IPython.core.display.HTML object>"
            ]
          },
          "metadata": {}
        },
        {
          "output_type": "stream",
          "name": "stdout",
          "text": [
            "Saving 2_на_чёрном.jpg to 2_на_чёрном (2).jpg\n"
          ]
        }
      ]
    },
    {
      "cell_type": "code",
      "metadata": {
        "id": "jZursiDQDbd8"
      },
      "source": [
        "#@title Конвертируем его в матрицу цвета\n",
        "\n",
        "gray_image = image.load_img(filename, target_size=(28, 28), color_mode = \"grayscale\")\n",
        "\n",
        "n_image = np.around(np.divide(gray_image, 255.0), decimals=8)\n"
      ],
      "execution_count": null,
      "outputs": []
    },
    {
      "cell_type": "code",
      "metadata": {
        "colab": {
          "base_uri": "https://localhost:8080/",
          "height": 282
        },
        "id": "W16Bwuc5ABFD",
        "outputId": "38d9a820-f4de-4d07-b3cc-2c82cc168f02"
      },
      "source": [
        "# Итоговое изображение для входа нейросети \n",
        "\n",
        "plt.imshow(n_image)"
      ],
      "execution_count": null,
      "outputs": [
        {
          "output_type": "execute_result",
          "data": {
            "text/plain": [
              "<matplotlib.image.AxesImage at 0x7fe706b895d0>"
            ]
          },
          "metadata": {},
          "execution_count": 127
        },
        {
          "output_type": "display_data",
          "data": {
            "image/png": "[encoded data removed]",
            "text/plain": [
              "<Figure size 432x288 with 1 Axes>"
            ]
          },
          "metadata": {
            "needs_background": "light"
          }
        }
      ]
    },
    {
      "cell_type": "code",
      "metadata": {
        "colab": {
          "base_uri": "https://localhost:8080/"
        },
        "id": "CDrPEa8WEFju",
        "outputId": "0c8d06bb-fec0-440e-a230-f91f886d9d25"
      },
      "source": [
        "# Предскажим наконец!\n",
        "\n",
        "prediction=model.predict(np.reshape(n_image, (1, 28, 28)))\n",
        "print(np.argmax(prediction))"
      ],
      "execution_count": null,
      "outputs": [
        {
          "output_type": "stream",
          "name": "stdout",
          "text": [
            "2\n"
          ]
        }
      ]
    },
    {
      "cell_type": "code",
      "metadata": {
        "colab": {
          "base_uri": "https://localhost:8080/"
        },
        "id": "m0e62JuvHpFz",
        "outputId": "43390ddd-0c1e-4378-c1c2-c35e3d5939a2"
      },
      "source": [
        "# Вероятности каждой цифры:\n",
        "\n",
        "np.round(prediction, 8)"
      ],
      "execution_count": null,
      "outputs": [
        {
          "output_type": "execute_result",
          "data": {
            "text/plain": [
              "array([[8.900000e-07, 3.076700e-04, 9.995007e-01, 8.377000e-05,\n",
              "        0.000000e+00, 1.700000e-07, 8.470000e-06, 0.000000e+00,\n",
              "        9.826000e-05, 0.000000e+00]], dtype=float32)"
            ]
          },
          "metadata": {},
          "execution_count": 129
        }
      ]
    },
    {
      "cell_type": "code",
      "metadata": {
        "colab": {
          "resources": {
            "http://localhost:8080/nbextensions/google.colab/files.js": {
              "data": "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",
              "ok": true,
              "headers": [
                [
                  "content-type",
                  "application/javascript"
                ]
              ],
              "status": 200,
              "status_text": ""
            }
          },
          "base_uri": "https://localhost:8080/",
          "height": 354
        },
        "id": "gy5HICXxREXd",
        "outputId": "9a180cd0-c4cb-49be-aa6f-22dd72cbaab7"
      },
      "source": [
        "#@title Попробуем еще раз!\n",
        "\n",
        "uploaded = files.upload()\n",
        "filename=list(uploaded.keys())[0]\n",
        "\n",
        "\n",
        "gray_image = image.load_img(filename, target_size=(28, 28), color_mode = \"grayscale\")\n",
        "\n",
        "n_image = np.around(np.divide(gray_image, 255.0), decimals=8)\n",
        "\n",
        "\n",
        "prediction=model.predict(np.reshape(n_image, (1, 28, 28)))\n",
        "print(np.argmax(prediction))\n",
        "plt.imshow(n_image)"
      ],
      "execution_count": null,
      "outputs": [
        {
          "output_type": "display_data",
          "data": {
            "text/html": [
              "\n",
              "     <input type=\"file\" id=\"files-baa36e07-98c8-42b4-ac28-64f008df1152\" name=\"files[]\" multiple disabled\n",
              "        style=\"border:none\" />\n",
              "     <output id=\"result-baa36e07-98c8-42b4-ac28-64f008df1152\">\n",
              "      Upload widget is only available when the cell has been executed in the\n",
              "      current browser session. Please rerun this cell to enable.\n",
              "      </output>\n",
              "      <script src=\"/nbextensions/google.colab/files.js\"></script> "
            ],
            "text/plain": [
              "<IPython.core.display.HTML object>"
            ]
          },
          "metadata": {}
        },
        {
          "output_type": "stream",
          "name": "stdout",
          "text": [
            "Saving 9_на_чёрном.jpg to 9_на_чёрном.jpg\n",
            "2\n"
          ]
        },
        {
          "output_type": "execute_result",
          "data": {
            "text/plain": [
              "<matplotlib.image.AxesImage at 0x7fe706bb6f50>"
            ]
          },
          "metadata": {},
          "execution_count": 131
        },
        {
          "output_type": "display_data",
          "data": {
            "image/png": "[encoded data removed]",
            "text/plain": [
              "<Figure size 432x288 with 1 Axes>"
            ]
          },
          "metadata": {
            "needs_background": "light"
          }
        }
      ]
    }
  ]
}